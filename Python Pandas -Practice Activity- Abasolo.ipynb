{
 "cells": [
  {
   "cell_type": "markdown",
   "metadata": {
    "collapsed": true,
    "jupyter": {
     "outputs_hidden": true
    }
   },
   "source": [
    "# Part 1"
   ]
  },
  {
   "cell_type": "markdown",
   "metadata": {},
   "source": [
    "The file \"Purchase_Data.csv\" contains purchase data at a Chinese supermarket for various products.  Read this csv into a dataframe called df_data and use the head() method to check that you have read in the data correctly. Make sure you import pandas."
   ]
  },
  {
   "cell_type": "code",
   "execution_count": 64,
   "metadata": {
    "collapsed": false,
    "jupyter": {
     "outputs_hidden": false
    }
   },
   "outputs": [
    {
     "name": "stdout",
     "output_type": "stream",
     "text": [
      "   invoice_number   invoice_time store_id  product_id  category_id  num_item  \\\n",
      "0    2.020000e+11  7/15/15 10:45     G816     7000300       210101       1.0   \n",
      "1    2.020000e+11  7/15/15 12:16     G816     7070884        70203       1.0   \n",
      "2    2.020000e+11  7/15/15 12:16     G816     7070884        70203       1.0   \n",
      "3    2.020000e+11  7/15/15 12:16     G816     7070891        70401       1.0   \n",
      "4    2.020000e+11  7/15/15 12:16     G816     7090363        70401       1.0   \n",
      "\n",
      "   price  \n",
      "0    2.0  \n",
      "1    2.0  \n",
      "2    2.0  \n",
      "3    6.0  \n",
      "4    6.0  \n"
     ]
    }
   ],
   "source": [
    "import pandas as pd\n",
    "df_data = pd.read_csv('purchase_data.csv')\n",
    "\n",
    "print(df_data.head())\n"
   ]
  },
  {
   "cell_type": "markdown",
   "metadata": {},
   "source": [
    "Use the dtypes attribute to view how each column is stored"
   ]
  },
  {
   "cell_type": "code",
   "execution_count": 65,
   "metadata": {
    "collapsed": false,
    "jupyter": {
     "outputs_hidden": false
    }
   },
   "outputs": [
    {
     "name": "stdout",
     "output_type": "stream",
     "text": [
      "invoice_number    float64\n",
      "invoice_time       object\n",
      "store_id           object\n",
      "product_id          int64\n",
      "category_id         int64\n",
      "num_item          float64\n",
      "price             float64\n",
      "dtype: object\n"
     ]
    }
   ],
   "source": [
    "print(df_data.dtypes)"
   ]
  },
  {
   "cell_type": "markdown",
   "metadata": {},
   "source": [
    "Slice the first two columns using .loc and store the result in a variable called result_1."
   ]
  },
  {
   "cell_type": "code",
   "execution_count": 66,
   "metadata": {
    "collapsed": false,
    "jupyter": {
     "outputs_hidden": false
    }
   },
   "outputs": [
    {
     "name": "stdout",
     "output_type": "stream",
     "text": [
      "      invoice_number   invoice_time\n",
      "0       2.020000e+11  7/15/15 10:45\n",
      "1       2.020000e+11  7/15/15 12:16\n",
      "2       2.020000e+11  7/15/15 12:16\n",
      "3       2.020000e+11  7/15/15 12:16\n",
      "4       2.020000e+11  7/15/15 12:16\n",
      "...              ...            ...\n",
      "5377    2.020000e+11   9/5/15 23:07\n",
      "5378    2.020000e+11   9/5/15 23:23\n",
      "5379    2.020000e+11   9/5/15 23:24\n",
      "5380    2.020000e+11   9/5/15 23:32\n",
      "5381    2.020000e+11   9/5/15 23:38\n",
      "\n",
      "[5382 rows x 2 columns]\n"
     ]
    }
   ],
   "source": [
    "result_1 = df_data.loc[:, :'invoice_time']\n",
    "\n",
    "print(result_1)\n"
   ]
  },
  {
   "cell_type": "markdown",
   "metadata": {},
   "source": [
    "Slice the first two rows using .loc and store the result in a variable called result_2."
   ]
  },
  {
   "cell_type": "code",
   "execution_count": 67,
   "metadata": {
    "collapsed": false,
    "jupyter": {
     "outputs_hidden": false
    }
   },
   "outputs": [
    {
     "name": "stdout",
     "output_type": "stream",
     "text": [
      "   invoice_number   invoice_time store_id  product_id  category_id  num_item  \\\n",
      "0    2.020000e+11  7/15/15 10:45     G816     7000300       210101       1.0   \n",
      "1    2.020000e+11  7/15/15 12:16     G816     7070884        70203       1.0   \n",
      "\n",
      "   price  \n",
      "0    2.0  \n",
      "1    2.0  \n"
     ]
    }
   ],
   "source": [
    "result_2 = df_data.loc[:1]\n",
    "\n",
    "print(result_2)\n"
   ]
  },
  {
   "cell_type": "markdown",
   "metadata": {},
   "source": [
    "Slice the first four rows and the first five columns and store the result in a variable called result_3."
   ]
  },
  {
   "cell_type": "code",
   "execution_count": 68,
   "metadata": {
    "collapsed": false,
    "jupyter": {
     "outputs_hidden": false
    }
   },
   "outputs": [
    {
     "name": "stdout",
     "output_type": "stream",
     "text": [
      "   invoice_number   invoice_time store_id  product_id  category_id\n",
      "0    2.020000e+11  7/15/15 10:45     G816     7000300       210101\n",
      "1    2.020000e+11  7/15/15 12:16     G816     7070884        70203\n",
      "2    2.020000e+11  7/15/15 12:16     G816     7070884        70203\n",
      "3    2.020000e+11  7/15/15 12:16     G816     7070891        70401\n"
     ]
    }
   ],
   "source": [
    "result_3 = df_data.iloc[:4, :5]\n",
    "\n",
    "print(result_3)\n"
   ]
  },
  {
   "cell_type": "markdown",
   "metadata": {},
   "source": [
    "Slice rows 0,4,6 and columns invoice time and price and store the result in variable called result_4."
   ]
  },
  {
   "cell_type": "code",
   "execution_count": 69,
   "metadata": {
    "collapsed": false,
    "jupyter": {
     "outputs_hidden": false
    }
   },
   "outputs": [
    {
     "name": "stdout",
     "output_type": "stream",
     "text": [
      "    invoice_time  price\n",
      "0  7/15/15 10:45    2.0\n",
      "4  7/15/15 12:16    6.0\n",
      "6  7/15/15 15:28    2.0\n"
     ]
    }
   ],
   "source": [
    "rows = [0, 4, 6]\n",
    "columns = ['invoice_time', 'price']\n",
    "result_4 = df_data.loc[rows, columns]\n",
    "\n",
    "print(result_4)\n"
   ]
  },
  {
   "cell_type": "markdown",
   "metadata": {},
   "source": [
    "Store the number rows in a variable called num_rows."
   ]
  },
  {
   "cell_type": "code",
   "execution_count": 70,
   "metadata": {
    "collapsed": false,
    "jupyter": {
     "outputs_hidden": false
    }
   },
   "outputs": [
    {
     "name": "stdout",
     "output_type": "stream",
     "text": [
      "Number Rows: 5382\n"
     ]
    }
   ],
   "source": [
    "num_rows = len(df_data)\n",
    "\n",
    "print(f\"Number Rows: {num_rows}\")\n"
   ]
  },
  {
   "cell_type": "markdown",
   "metadata": {},
   "source": [
    "Print out the last row of the data to dataframe. **Hint:** use the variable num_rows from the previous exercise."
   ]
  },
  {
   "cell_type": "code",
   "execution_count": 71,
   "metadata": {
    "collapsed": false,
    "jupyter": {
     "outputs_hidden": false
    }
   },
   "outputs": [
    {
     "name": "stdout",
     "output_type": "stream",
     "text": [
      "invoice_number    202000000000.0\n",
      "invoice_time        9/5/15 23:38\n",
      "store_id                    G619\n",
      "product_id              23030206\n",
      "category_id               210101\n",
      "num_item                     1.0\n",
      "price                        2.0\n",
      "Name: 5381, dtype: object\n"
     ]
    }
   ],
   "source": [
    "last_row = df_data.iloc[num_rows - 1]\n",
    "\n",
    "print(last_row)"
   ]
  },
  {
   "cell_type": "markdown",
   "metadata": {},
   "source": [
    "# Part 2"
   ]
  },
  {
   "cell_type": "markdown",
   "metadata": {},
   "source": [
    "Compute the average and max price charged.  Store the results in variables called avg_price and max_price"
   ]
  },
  {
   "cell_type": "code",
   "execution_count": 72,
   "metadata": {
    "collapsed": false,
    "jupyter": {
     "outputs_hidden": false
    }
   },
   "outputs": [
    {
     "name": "stdout",
     "output_type": "stream",
     "text": [
      "Average Price: 3.1920522110741363\n",
      "Max Price: 6.01\n"
     ]
    }
   ],
   "source": [
    "avg_price = df_data['price'].mean()\n",
    "max_price = df_data['price'].max()\n",
    "\n",
    "print(f\"Average Price: {avg_price}\")\n",
    "print(f\"Max Price: {max_price}\")\n"
   ]
  },
  {
   "cell_type": "markdown",
   "metadata": {},
   "source": [
    "Compute the average price and average number of items purchased with only a single call to the mean() method. Store these averages in avg_price and avg_num_items."
   ]
  },
  {
   "cell_type": "code",
   "execution_count": 73,
   "metadata": {
    "collapsed": false,
    "jupyter": {
     "outputs_hidden": false
    }
   },
   "outputs": [
    {
     "name": "stdout",
     "output_type": "stream",
     "text": [
      "Average price: 3.1920522110741363\n",
      "Average number of items purchased: 1.2983091787439613\n"
     ]
    }
   ],
   "source": [
    "avg_price, avg_num_items = df_data[['price', 'num_item']].mean()\n",
    "\n",
    "print(f\"Average price: {avg_price}\")\n",
    "print(f\"Average number of items purchased: {avg_num_items}\")\n"
   ]
  },
  {
   "cell_type": "markdown",
   "metadata": {},
   "source": [
    "Create a column called \"total\", which is the product of the price and num_item columns."
   ]
  },
  {
   "cell_type": "code",
   "execution_count": 74,
   "metadata": {
    "collapsed": false,
    "jupyter": {
     "outputs_hidden": false
    }
   },
   "outputs": [
    {
     "name": "stdout",
     "output_type": "stream",
     "text": [
      "   invoice_number   invoice_time store_id  product_id  category_id  num_item  \\\n",
      "0    2.020000e+11  7/15/15 10:45     G816     7000300       210101       1.0   \n",
      "1    2.020000e+11  7/15/15 12:16     G816     7070884        70203       1.0   \n",
      "2    2.020000e+11  7/15/15 12:16     G816     7070884        70203       1.0   \n",
      "3    2.020000e+11  7/15/15 12:16     G816     7070891        70401       1.0   \n",
      "4    2.020000e+11  7/15/15 12:16     G816     7090363        70401       1.0   \n",
      "\n",
      "   price  total  \n",
      "0    2.0    2.0  \n",
      "1    2.0    2.0  \n",
      "2    2.0    2.0  \n",
      "3    6.0    6.0  \n",
      "4    6.0    6.0  \n"
     ]
    }
   ],
   "source": [
    "df_data['total'] = df_data['price'] * df_data['num_item']\n",
    "\n",
    "print(df_data.head())\n"
   ]
  },
  {
   "cell_type": "markdown",
   "metadata": {},
   "source": [
    "What is the avgerage price of the three most expensive purchases? "
   ]
  },
  {
   "cell_type": "code",
   "execution_count": 75,
   "metadata": {
    "collapsed": false,
    "jupyter": {
     "outputs_hidden": false
    }
   },
   "outputs": [
    {
     "name": "stdout",
     "output_type": "stream",
     "text": [
      "Average Price of Top 3 Most Expensive Purchases: 6.003333333333333\n"
     ]
    }
   ],
   "source": [
    "avg_top3 = df_data.nlargest(3, 'price')['price'].mean()\n",
    "\n",
    "print(f\"Average Price of Top 3 Most Expensive Purchases: {avg_top3}\")\n"
   ]
  },
  {
   "cell_type": "markdown",
   "metadata": {},
   "source": [
    "How many different products are there?"
   ]
  },
  {
   "cell_type": "code",
   "execution_count": 76,
   "metadata": {
    "collapsed": false,
    "jupyter": {
     "outputs_hidden": false
    }
   },
   "outputs": [
    {
     "name": "stdout",
     "output_type": "stream",
     "text": [
      "Amount of Distinct Products: 53\n"
     ]
    }
   ],
   "source": [
    "num_unique = df_data['product_id'].nunique()\n",
    "\n",
    "print(f\"Amount of Distinct Products: {num_unique}\")\n"
   ]
  },
  {
   "cell_type": "markdown",
   "metadata": {},
   "source": [
    "Find the difference between the mean and median of the column total.  Use the describe() method and then index the dataframe it returns."
   ]
  },
  {
   "cell_type": "code",
   "execution_count": 78,
   "metadata": {
    "collapsed": false,
    "jupyter": {
     "outputs_hidden": false
    }
   },
   "outputs": [
    {
     "name": "stdout",
     "output_type": "stream",
     "text": [
      "Difference between Mean and Median of Total Column: 0.9318078781127839\n"
     ]
    }
   ],
   "source": [
    "summary = df_data['total'].describe()\n",
    "\n",
    "difference = summary['mean'] - summary['50%']\n",
    "\n",
    "print(f\"Difference between Mean and Median of Total Column: {difference}\")"
   ]
  },
  {
   "cell_type": "markdown",
   "metadata": {},
   "source": [
    "Use the drop() method to delete the column total from the dataframe df_data."
   ]
  },
  {
   "cell_type": "code",
   "execution_count": 79,
   "metadata": {
    "collapsed": false,
    "jupyter": {
     "outputs_hidden": false
    }
   },
   "outputs": [
    {
     "name": "stdout",
     "output_type": "stream",
     "text": [
      "   invoice_number   invoice_time store_id  product_id  category_id  num_item  \\\n",
      "0    2.020000e+11  7/15/15 10:45     G816     7000300       210101       1.0   \n",
      "1    2.020000e+11  7/15/15 12:16     G816     7070884        70203       1.0   \n",
      "2    2.020000e+11  7/15/15 12:16     G816     7070884        70203       1.0   \n",
      "3    2.020000e+11  7/15/15 12:16     G816     7070891        70401       1.0   \n",
      "4    2.020000e+11  7/15/15 12:16     G816     7090363        70401       1.0   \n",
      "\n",
      "   price  \n",
      "0    2.0  \n",
      "1    2.0  \n",
      "2    2.0  \n",
      "3    6.0  \n",
      "4    6.0  \n"
     ]
    }
   ],
   "source": [
    "df_data.drop(columns=['total'], inplace=True)\n",
    "\n",
    "print(df_data.head())\n"
   ]
  },
  {
   "cell_type": "markdown",
   "metadata": {},
   "source": [
    "Let's dig a little deeper into the data set and answer some basic question."
   ]
  },
  {
   "cell_type": "markdown",
   "metadata": {},
   "source": [
    "First, covert the column invoice time to a datetime column. Print out the new column types to make sure this was done correctly"
   ]
  },
  {
   "cell_type": "code",
   "execution_count": 80,
   "metadata": {
    "collapsed": false,
    "jupyter": {
     "outputs_hidden": false
    }
   },
   "outputs": [
    {
     "name": "stdout",
     "output_type": "stream",
     "text": [
      "invoice_number           float64\n",
      "invoice_time      datetime64[ns]\n",
      "store_id                  object\n",
      "product_id                 int64\n",
      "category_id                int64\n",
      "num_item                 float64\n",
      "price                    float64\n",
      "dtype: object\n"
     ]
    }
   ],
   "source": [
    "df_data['invoice_time'] = pd.to_datetime(df_data['invoice_time'], format='%m/%d/%y %H:%M')\n",
    "print(df_data.dtypes)\n"
   ]
  },
  {
   "cell_type": "markdown",
   "metadata": {},
   "source": [
    "Next, let's create columns called \"DOW\" and \"Month\", which store the corresponding weekday and month of the invoice respectively.  Print the head of the dataframe to make sure this was done correctly."
   ]
  },
  {
   "cell_type": "code",
   "execution_count": 51,
   "metadata": {
    "collapsed": false,
    "jupyter": {
     "outputs_hidden": false
    }
   },
   "outputs": [
    {
     "name": "stdout",
     "output_type": "stream",
     "text": [
      "   invoice_number        invoice_time store_id  product_id  category_id  \\\n",
      "0    2.020000e+11 2015-07-15 10:45:00     G816     7000300       210101   \n",
      "1    2.020000e+11 2015-07-15 12:16:00     G816     7070884        70203   \n",
      "2    2.020000e+11 2015-07-15 12:16:00     G816     7070884        70203   \n",
      "3    2.020000e+11 2015-07-15 12:16:00     G816     7070891        70401   \n",
      "4    2.020000e+11 2015-07-15 12:16:00     G816     7090363        70401   \n",
      "\n",
      "   num_item  price        DOW Month  \n",
      "0       1.0    2.0  Wednesday  July  \n",
      "1       1.0    2.0  Wednesday  July  \n",
      "2       1.0    2.0  Wednesday  July  \n",
      "3       1.0    6.0  Wednesday  July  \n",
      "4       1.0    6.0  Wednesday  July  \n"
     ]
    }
   ],
   "source": [
    "df_data['DOW'] = df_data['invoice_time'].dt.day_name()\n",
    "df_data['Month'] = df_data['invoice_time'].dt.month_name()\n",
    "\n",
    "print(df_data.head())\n"
   ]
  },
  {
   "cell_type": "markdown",
   "metadata": {},
   "source": [
    "Create a variable called num_purchases_wed, which stores the number of purchases made on Wednesday?  You should use value_counts and then index the series it return."
   ]
  },
  {
   "cell_type": "code",
   "execution_count": 81,
   "metadata": {
    "collapsed": false,
    "jupyter": {
     "outputs_hidden": false
    }
   },
   "outputs": [
    {
     "ename": "KeyError",
     "evalue": "'DOW'",
     "output_type": "error",
     "traceback": [
      "\u001b[1;31m---------------------------------------------------------------------------\u001b[0m",
      "\u001b[1;31mKeyError\u001b[0m                                  Traceback (most recent call last)",
      "File \u001b[1;32m~\\anaconda3\\Lib\\site-packages\\pandas\\core\\indexes\\base.py:3791\u001b[0m, in \u001b[0;36mIndex.get_loc\u001b[1;34m(self, key)\u001b[0m\n\u001b[0;32m   3790\u001b[0m \u001b[38;5;28;01mtry\u001b[39;00m:\n\u001b[1;32m-> 3791\u001b[0m     \u001b[38;5;28;01mreturn\u001b[39;00m \u001b[38;5;28mself\u001b[39m\u001b[38;5;241m.\u001b[39m_engine\u001b[38;5;241m.\u001b[39mget_loc(casted_key)\n\u001b[0;32m   3792\u001b[0m \u001b[38;5;28;01mexcept\u001b[39;00m \u001b[38;5;167;01mKeyError\u001b[39;00m \u001b[38;5;28;01mas\u001b[39;00m err:\n",
      "File \u001b[1;32mindex.pyx:152\u001b[0m, in \u001b[0;36mpandas._libs.index.IndexEngine.get_loc\u001b[1;34m()\u001b[0m\n",
      "File \u001b[1;32mindex.pyx:181\u001b[0m, in \u001b[0;36mpandas._libs.index.IndexEngine.get_loc\u001b[1;34m()\u001b[0m\n",
      "File \u001b[1;32mpandas\\_libs\\hashtable_class_helper.pxi:7080\u001b[0m, in \u001b[0;36mpandas._libs.hashtable.PyObjectHashTable.get_item\u001b[1;34m()\u001b[0m\n",
      "File \u001b[1;32mpandas\\_libs\\hashtable_class_helper.pxi:7088\u001b[0m, in \u001b[0;36mpandas._libs.hashtable.PyObjectHashTable.get_item\u001b[1;34m()\u001b[0m\n",
      "\u001b[1;31mKeyError\u001b[0m: 'DOW'",
      "\nThe above exception was the direct cause of the following exception:\n",
      "\u001b[1;31mKeyError\u001b[0m                                  Traceback (most recent call last)",
      "Cell \u001b[1;32mIn[81], line 1\u001b[0m\n\u001b[1;32m----> 1\u001b[0m total_days \u001b[38;5;241m=\u001b[39m df_data[\u001b[38;5;124m'\u001b[39m\u001b[38;5;124mDOW\u001b[39m\u001b[38;5;124m'\u001b[39m]\u001b[38;5;241m.\u001b[39mvalue_counts()\n\u001b[0;32m      3\u001b[0m wed_purchase \u001b[38;5;241m=\u001b[39m total_days\u001b[38;5;241m.\u001b[39mget(\u001b[38;5;124m'\u001b[39m\u001b[38;5;124mWednesday\u001b[39m\u001b[38;5;124m'\u001b[39m, \u001b[38;5;241m0\u001b[39m)\n\u001b[0;32m      5\u001b[0m \u001b[38;5;28mprint\u001b[39m(\u001b[38;5;124mf\u001b[39m\u001b[38;5;124m\"\u001b[39m\u001b[38;5;124mAmount of Purchases Made on Wednesday: \u001b[39m\u001b[38;5;132;01m{\u001b[39;00mwed_purchase\u001b[38;5;132;01m}\u001b[39;00m\u001b[38;5;124m\"\u001b[39m)\n",
      "File \u001b[1;32m~\\anaconda3\\Lib\\site-packages\\pandas\\core\\frame.py:3893\u001b[0m, in \u001b[0;36mDataFrame.__getitem__\u001b[1;34m(self, key)\u001b[0m\n\u001b[0;32m   3891\u001b[0m \u001b[38;5;28;01mif\u001b[39;00m \u001b[38;5;28mself\u001b[39m\u001b[38;5;241m.\u001b[39mcolumns\u001b[38;5;241m.\u001b[39mnlevels \u001b[38;5;241m>\u001b[39m \u001b[38;5;241m1\u001b[39m:\n\u001b[0;32m   3892\u001b[0m     \u001b[38;5;28;01mreturn\u001b[39;00m \u001b[38;5;28mself\u001b[39m\u001b[38;5;241m.\u001b[39m_getitem_multilevel(key)\n\u001b[1;32m-> 3893\u001b[0m indexer \u001b[38;5;241m=\u001b[39m \u001b[38;5;28mself\u001b[39m\u001b[38;5;241m.\u001b[39mcolumns\u001b[38;5;241m.\u001b[39mget_loc(key)\n\u001b[0;32m   3894\u001b[0m \u001b[38;5;28;01mif\u001b[39;00m is_integer(indexer):\n\u001b[0;32m   3895\u001b[0m     indexer \u001b[38;5;241m=\u001b[39m [indexer]\n",
      "File \u001b[1;32m~\\anaconda3\\Lib\\site-packages\\pandas\\core\\indexes\\base.py:3798\u001b[0m, in \u001b[0;36mIndex.get_loc\u001b[1;34m(self, key)\u001b[0m\n\u001b[0;32m   3793\u001b[0m     \u001b[38;5;28;01mif\u001b[39;00m \u001b[38;5;28misinstance\u001b[39m(casted_key, \u001b[38;5;28mslice\u001b[39m) \u001b[38;5;129;01mor\u001b[39;00m (\n\u001b[0;32m   3794\u001b[0m         \u001b[38;5;28misinstance\u001b[39m(casted_key, abc\u001b[38;5;241m.\u001b[39mIterable)\n\u001b[0;32m   3795\u001b[0m         \u001b[38;5;129;01mand\u001b[39;00m \u001b[38;5;28many\u001b[39m(\u001b[38;5;28misinstance\u001b[39m(x, \u001b[38;5;28mslice\u001b[39m) \u001b[38;5;28;01mfor\u001b[39;00m x \u001b[38;5;129;01min\u001b[39;00m casted_key)\n\u001b[0;32m   3796\u001b[0m     ):\n\u001b[0;32m   3797\u001b[0m         \u001b[38;5;28;01mraise\u001b[39;00m InvalidIndexError(key)\n\u001b[1;32m-> 3798\u001b[0m     \u001b[38;5;28;01mraise\u001b[39;00m \u001b[38;5;167;01mKeyError\u001b[39;00m(key) \u001b[38;5;28;01mfrom\u001b[39;00m \u001b[38;5;21;01merr\u001b[39;00m\n\u001b[0;32m   3799\u001b[0m \u001b[38;5;28;01mexcept\u001b[39;00m \u001b[38;5;167;01mTypeError\u001b[39;00m:\n\u001b[0;32m   3800\u001b[0m     \u001b[38;5;66;03m# If we have a listlike key, _check_indexing_error will raise\u001b[39;00m\n\u001b[0;32m   3801\u001b[0m     \u001b[38;5;66;03m#  InvalidIndexError. Otherwise we fall through and re-raise\u001b[39;00m\n\u001b[0;32m   3802\u001b[0m     \u001b[38;5;66;03m#  the TypeError.\u001b[39;00m\n\u001b[0;32m   3803\u001b[0m     \u001b[38;5;28mself\u001b[39m\u001b[38;5;241m.\u001b[39m_check_indexing_error(key)\n",
      "\u001b[1;31mKeyError\u001b[0m: 'DOW'"
     ]
    }
   ],
   "source": [
    "total_days = df_data['DOW'].value_counts()\n",
    "\n",
    "wed_purchase = total_days.get('Wednesday', 0)\n",
    "\n",
    "print(f\"Amount of Purchases Made on Wednesday: {wed_purchase}\")"
   ]
  },
  {
   "cell_type": "markdown",
   "metadata": {},
   "source": [
    "# Part 3"
   ]
  },
  {
   "cell_type": "markdown",
   "metadata": {},
   "source": [
    "In this set of practice exercises, we will be working with a demographic data regarding the passengers aboard the Titanic.  Read in the data frame and use the head() method to check that it was read in correctly."
   ]
  },
  {
   "cell_type": "code",
   "execution_count": 54,
   "metadata": {
    "collapsed": false,
    "jupyter": {
     "outputs_hidden": false
    }
   },
   "outputs": [
    {
     "name": "stdout",
     "output_type": "stream",
     "text": [
      "   PassengerId  Pclass                                          Name     Sex  \\\n",
      "0          892       3                              Kelly, Mr. James    male   \n",
      "1          893       3              Wilkes, Mrs. James (Ellen Needs)  female   \n",
      "2          894       2                     Myles, Mr. Thomas Francis    male   \n",
      "3          895       3                              Wirz, Mr. Albert    male   \n",
      "4          896       3  Hirvonen, Mrs. Alexander (Helga E Lindqvist)  female   \n",
      "\n",
      "    Age  SibSp  Parch   Ticket     Fare Cabin Embarked  \n",
      "0  34.5      0      0   330911   7.8292   NaN        Q  \n",
      "1  47.0      1      0   363272   7.0000   NaN        S  \n",
      "2  62.0      0      0   240276   9.6875   NaN        Q  \n",
      "3  27.0      0      0   315154   8.6625   NaN        S  \n",
      "4  22.0      1      1  3101298  12.2875   NaN        S  \n"
     ]
    }
   ],
   "source": [
    "import pandas as pd\n",
    "\n",
    "df_titanic = pd.read_csv('titanic.csv')\n",
    "\n",
    "print(df_titanic.head())\n"
   ]
  },
  {
   "cell_type": "markdown",
   "metadata": {},
   "source": [
    "Use the rename method to change the column \"Name\" to \"Passenger_Name\" and the column \"Ticket\" to \"Ticket_Num\"."
   ]
  },
  {
   "cell_type": "code",
   "execution_count": 55,
   "metadata": {
    "collapsed": false,
    "jupyter": {
     "outputs_hidden": false
    }
   },
   "outputs": [
    {
     "name": "stdout",
     "output_type": "stream",
     "text": [
      "   PassengerId  Pclass                                Passenger_Name     Sex  \\\n",
      "0          892       3                              Kelly, Mr. James    male   \n",
      "1          893       3              Wilkes, Mrs. James (Ellen Needs)  female   \n",
      "2          894       2                     Myles, Mr. Thomas Francis    male   \n",
      "3          895       3                              Wirz, Mr. Albert    male   \n",
      "4          896       3  Hirvonen, Mrs. Alexander (Helga E Lindqvist)  female   \n",
      "\n",
      "    Age  SibSp  Parch Ticket_Num     Fare Cabin Embarked  \n",
      "0  34.5      0      0     330911   7.8292   NaN        Q  \n",
      "1  47.0      1      0     363272   7.0000   NaN        S  \n",
      "2  62.0      0      0     240276   9.6875   NaN        Q  \n",
      "3  27.0      0      0     315154   8.6625   NaN        S  \n",
      "4  22.0      1      1    3101298  12.2875   NaN        S  \n"
     ]
    }
   ],
   "source": [
    "df_titanic = df_titanic.rename(columns={'Name': 'Passenger_Name', 'Ticket': 'Ticket_Num'})\n",
    "\n",
    "print(df_titanic.head())"
   ]
  },
  {
   "cell_type": "markdown",
   "metadata": {},
   "source": [
    "Change the index of the df_titanic to the column PasengerID."
   ]
  },
  {
   "cell_type": "code",
   "execution_count": 56,
   "metadata": {
    "collapsed": false,
    "jupyter": {
     "outputs_hidden": false
    },
    "scrolled": true
   },
   "outputs": [
    {
     "name": "stdout",
     "output_type": "stream",
     "text": [
      "             Pclass                                Passenger_Name     Sex  \\\n",
      "PassengerId                                                                 \n",
      "892               3                              Kelly, Mr. James    male   \n",
      "893               3              Wilkes, Mrs. James (Ellen Needs)  female   \n",
      "894               2                     Myles, Mr. Thomas Francis    male   \n",
      "895               3                              Wirz, Mr. Albert    male   \n",
      "896               3  Hirvonen, Mrs. Alexander (Helga E Lindqvist)  female   \n",
      "\n",
      "              Age  SibSp  Parch Ticket_Num     Fare Cabin Embarked  \n",
      "PassengerId                                                         \n",
      "892          34.5      0      0     330911   7.8292   NaN        Q  \n",
      "893          47.0      1      0     363272   7.0000   NaN        S  \n",
      "894          62.0      0      0     240276   9.6875   NaN        Q  \n",
      "895          27.0      0      0     315154   8.6625   NaN        S  \n",
      "896          22.0      1      1    3101298  12.2875   NaN        S  \n"
     ]
    }
   ],
   "source": [
    "df_titanic.set_index('PassengerId', inplace=True)\n",
    "\n",
    "print(df_titanic.head())"
   ]
  },
  {
   "cell_type": "markdown",
   "metadata": {},
   "source": [
    "Select the name of passenger 896"
   ]
  },
  {
   "cell_type": "code",
   "execution_count": 57,
   "metadata": {
    "collapsed": false,
    "jupyter": {
     "outputs_hidden": false
    }
   },
   "outputs": [
    {
     "name": "stdout",
     "output_type": "stream",
     "text": [
      "Name of passenger Passenger 896: Hirvonen, Mrs. Alexander (Helga E Lindqvist)\n"
     ]
    }
   ],
   "source": [
    "passenger_896 = df_titanic.loc[896, 'Passenger_Name']\n",
    "\n",
    "print(f\"Name of passenger Passenger 896: {passenger_896}\")\n"
   ]
  },
  {
   "cell_type": "markdown",
   "metadata": {},
   "source": [
    "Change the index back to row numbers but making sure that we don't lose the PassengerId column. "
   ]
  },
  {
   "cell_type": "code",
   "execution_count": 58,
   "metadata": {
    "collapsed": false,
    "jupyter": {
     "outputs_hidden": false
    }
   },
   "outputs": [
    {
     "name": "stdout",
     "output_type": "stream",
     "text": [
      "   PassengerId  Pclass                                Passenger_Name     Sex  \\\n",
      "0          892       3                              Kelly, Mr. James    male   \n",
      "1          893       3              Wilkes, Mrs. James (Ellen Needs)  female   \n",
      "2          894       2                     Myles, Mr. Thomas Francis    male   \n",
      "3          895       3                              Wirz, Mr. Albert    male   \n",
      "4          896       3  Hirvonen, Mrs. Alexander (Helga E Lindqvist)  female   \n",
      "\n",
      "    Age  SibSp  Parch Ticket_Num     Fare Cabin Embarked  \n",
      "0  34.5      0      0     330911   7.8292   NaN        Q  \n",
      "1  47.0      1      0     363272   7.0000   NaN        S  \n",
      "2  62.0      0      0     240276   9.6875   NaN        Q  \n",
      "3  27.0      0      0     315154   8.6625   NaN        S  \n",
      "4  22.0      1      1    3101298  12.2875   NaN        S  \n"
     ]
    }
   ],
   "source": [
    "df_titanic.reset_index(inplace=True)\n",
    "\n",
    "print(df_titanic.head())\n"
   ]
  },
  {
   "cell_type": "markdown",
   "metadata": {},
   "source": [
    "How many missing entries are there in the Age column? Use the isnull() method and recall than Booleans are exactly like 1s (True) and 0s (False)."
   ]
  },
  {
   "cell_type": "code",
   "execution_count": 59,
   "metadata": {
    "collapsed": false,
    "jupyter": {
     "outputs_hidden": false
    }
   },
   "outputs": [
    {
     "name": "stdout",
     "output_type": "stream",
     "text": [
      "Amount of Missing Entries in 'Age' Column: 86\n"
     ]
    }
   ],
   "source": [
    "missing_age = df_titanic['Age'].isnull().sum()\n",
    "\n",
    "print(f\"Amount of Missing Entries in 'Age' Column: {missing_age}\")"
   ]
  },
  {
   "cell_type": "markdown",
   "metadata": {},
   "source": [
    "Compute the avg age of passengers ignoring the missing data."
   ]
  },
  {
   "cell_type": "code",
   "execution_count": 60,
   "metadata": {
    "collapsed": false,
    "jupyter": {
     "outputs_hidden": false
    }
   },
   "outputs": [
    {
     "name": "stdout",
     "output_type": "stream",
     "text": [
      "Average Age of Passengers: 30.272590361445783\n"
     ]
    }
   ],
   "source": [
    "avg_age = df_titanic['Age'].mean()\n",
    "\n",
    "print(f\"Average Age of Passengers: {avg_age}\")"
   ]
  },
  {
   "cell_type": "markdown",
   "metadata": {},
   "source": [
    "Using the fillna() method replace the missing values in the Age column with the mean."
   ]
  },
  {
   "cell_type": "code",
   "execution_count": 61,
   "metadata": {
    "collapsed": false,
    "jupyter": {
     "outputs_hidden": false
    }
   },
   "outputs": [
    {
     "name": "stdout",
     "output_type": "stream",
     "text": [
      "   PassengerId  Pclass                                Passenger_Name     Sex  \\\n",
      "0          892       3                              Kelly, Mr. James    male   \n",
      "1          893       3              Wilkes, Mrs. James (Ellen Needs)  female   \n",
      "2          894       2                     Myles, Mr. Thomas Francis    male   \n",
      "3          895       3                              Wirz, Mr. Albert    male   \n",
      "4          896       3  Hirvonen, Mrs. Alexander (Helga E Lindqvist)  female   \n",
      "\n",
      "    Age  SibSp  Parch Ticket_Num     Fare Cabin Embarked  \n",
      "0  34.5      0      0     330911   7.8292   NaN        Q  \n",
      "1  47.0      1      0     363272   7.0000   NaN        S  \n",
      "2  62.0      0      0     240276   9.6875   NaN        Q  \n",
      "3  27.0      0      0     315154   8.6625   NaN        S  \n",
      "4  22.0      1      1    3101298  12.2875   NaN        S  \n"
     ]
    }
   ],
   "source": [
    "age_mean = df_titanic['Age'].mean()\n",
    "df_titanic.fillna({'Age': age_mean}, inplace=True)\n",
    "\n",
    "print(df_titanic.head())"
   ]
  },
  {
   "cell_type": "markdown",
   "metadata": {},
   "source": [
    "What is the average age of the 5 oldest passengers? The reset_index method will be helpful here."
   ]
  },
  {
   "cell_type": "code",
   "execution_count": 62,
   "metadata": {
    "collapsed": false,
    "jupyter": {
     "outputs_hidden": false
    }
   },
   "outputs": [
    {
     "name": "stdout",
     "output_type": "stream",
     "text": [
      "Average Age of the 5 Oldest Passengers: 67.0\n"
     ]
    }
   ],
   "source": [
    "sorted_age = df_titanic.sort_values(by='Age', ascending=False)\n",
    "oldest_passengers = sorted_age.head(5).reset_index(drop=True)\n",
    "avg_age_oldest = oldest_passengers['Age'].mean()\n",
    "\n",
    "print(f\"Average Age of the 5 Oldest Passengers: {avg_age_oldest}\")"
   ]
  }
 ],
 "metadata": {
  "kernelspec": {
   "display_name": "Python 3 (ipykernel)",
   "language": "python",
   "name": "python3"
  },
  "language_info": {
   "codemirror_mode": {
    "name": "ipython",
    "version": 3
   },
   "file_extension": ".py",
   "mimetype": "text/x-python",
   "name": "python",
   "nbconvert_exporter": "python",
   "pygments_lexer": "ipython3",
   "version": "3.11.7"
  },
  "toc": {
   "nav_menu": {
    "height": "48px",
    "width": "252px"
   },
   "number_sections": true,
   "sideBar": true,
   "skip_h1_title": false,
   "toc_cell": false,
   "toc_position": {},
   "toc_section_display": "block",
   "toc_window_display": false
  }
 },
 "nbformat": 4,
 "nbformat_minor": 4
}
